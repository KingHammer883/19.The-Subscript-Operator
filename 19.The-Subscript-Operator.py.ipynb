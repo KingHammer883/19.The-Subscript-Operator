{
 "cells": [
  {
   "cell_type": "code",
   "execution_count": 1,
   "metadata": {
    "ExecuteTime": {
     "end_time": "2019-01-21T19:40:49.926494Z",
     "start_time": "2019-01-21T19:40:49.912477Z"
    }
   },
   "outputs": [
    {
     "name": "stdout",
     "output_type": "stream",
     "text": [
      "A\n",
      "n\n",
      "g\n",
      "g\n",
      "n\n",
      "0 H\n",
      "1 i\n",
      "2  \n",
      "3 t\n",
      "4 h\n",
      "5 e\n",
      "6 r\n",
      "7 e\n",
      "8 !\n"
     ]
    }
   ],
   "source": [
    "# -*- coding: utf-8 -*-\n",
    "\"\"\"\n",
    "Created on Fri Jan 21, 2019\n",
    "\n",
    "File: The Subscript Operator\n",
    "@author: Byen23\n",
    "\n",
    "Although a simple for loop can access any of the characters in a string. sometimes you just want to inspect one character at a given position without visiting them all. The subscript operator [] makes this possible. The simplest form of the subscript operation is the following:\n",
    "\t\n",
    "<a string[<an integer expression>]\n",
    "\n",
    "The first part of this operation is the string you want to inspect. The integer expression is also called an index. In the following examples, the subscript operator is used to access characters in the string \"Alan Turing\":\n",
    "\t\n",
    "\"\"\"\n",
    "\n",
    "name = \"Alan Turing\"\n",
    "print(name[0])\t\t \t \t # Examine the first character\n",
    "\n",
    "print(name[3])\t\t \t \t # Examine the fourth character\n",
    "\n",
    "print(name[len(name) -1])\t # Examine the last character \n",
    "\n",
    "print(name[-1])\t\t\t\t # Shorthand for the last character\n",
    "\n",
    "print(name[-2])\t\t\t \t # Shorthand for the next last character \n",
    "#-------------------------------------------------------------------#\n",
    "\"\"\"Note that attempting to access a character using a position that equals the string’s length results in an error. \n",
    "\n",
    "The positions usually range from 0 to the length minus 1. However, Python allows negative subscript values to access characters at or near the end of a string. The programmer counts backward from –1 to access characters from the right end of the string. The subscript operator is also useful in loops where you want to use the positions as well as the characters in a string. \n",
    "\n",
    "The next code segment uses a count-controlled loop to display the characters and their positions: \"\"\"\n",
    "\n",
    "data = \"Hi there!\"\n",
    "for index in range(len(data)):\n",
    "\tprint(index, data[index])"
   ]
  }
 ],
 "metadata": {
  "kernelspec": {
   "display_name": "Python 3",
   "language": "python",
   "name": "python3"
  },
  "language_info": {
   "codemirror_mode": {
    "name": "ipython",
    "version": 3
   },
   "file_extension": ".py",
   "mimetype": "text/x-python",
   "name": "python",
   "nbconvert_exporter": "python",
   "pygments_lexer": "ipython3",
   "version": "3.6.8"
  }
 },
 "nbformat": 4,
 "nbformat_minor": 2
}
